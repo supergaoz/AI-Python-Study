{
 "cells": [
  {
   "cell_type": "markdown",
   "metadata": {},
   "source": [
    "# MXNet(Gluon) 入门基础\n",
    "    MXNet有两种编码风格，Gluon 和 Module, Gluon 更适合入门，这里就从Gluon 开始学起，主要效仿官网相关教程进行渐进式学习。"
   ]
  },
  {
   "cell_type": "markdown",
   "metadata": {},
   "source": [
    "## 1. 使用ndarry 在mxnet中处理数据\n",
    "\n",
    "    大家都知道在深度学习过程中，数据时一切的基础，首先我们就先了解下如何构造和存储数据。首先，我们从NDArrays数据结构开始。\n",
    "    "
   ]
  },
  {
   "cell_type": "markdown",
   "metadata": {},
   "source": [
    "### 数据构建\n",
    "首先先导入mxnet 以及ndarray 数据结构，然后尝试随机生成 3行4列 矩阵。"
   ]
  },
  {
   "cell_type": "code",
   "execution_count": 1,
   "metadata": {},
   "outputs": [
    {
     "name": "stdout",
     "output_type": "stream",
     "text": [
      "\n",
      "[[  0.00000000e+00   0.00000000e+00   0.00000000e+00   0.00000000e+00]\n",
      " [  0.00000000e+00   0.00000000e+00   1.45174521e-42   0.00000000e+00]\n",
      " [  0.00000000e+00   4.68374623e-39   0.00000000e+00   6.97960421e-39]]\n",
      "<NDArray 3x4 @cpu(0)>\n"
     ]
    }
   ],
   "source": [
    "import mxnet as mx\n",
    "from mxnet import nd\n",
    "mx.random.seed(1)\n",
    "x = nd.empty((3,4))\n",
    "print(x)"
   ]
  },
  {
   "cell_type": "markdown",
   "metadata": {},
   "source": [
    "此外，还有些初始化数据的方法：\n",
    "* empty: 从内存中抓取部分数据，进行呈现\n",
    "* zeros: 全为 0 值数据\n",
    "* ones: 全为 1 值数据\n",
    "* random_normal: 范围随机数据，参数为平均值和方差"
   ]
  },
  {
   "cell_type": "code",
   "execution_count": 2,
   "metadata": {},
   "outputs": [
    {
     "name": "stdout",
     "output_type": "stream",
     "text": [
      "\n",
      "[[ 0.  0.  0.  0.]\n",
      " [ 0.  0.  0.  0.]\n",
      " [ 0.  0.  0.  0.]]\n",
      "<NDArray 3x4 @cpu(0)>\n"
     ]
    }
   ],
   "source": [
    "x = nd.zeros((3,4))\n",
    "print(x)"
   ]
  },
  {
   "cell_type": "code",
   "execution_count": 3,
   "metadata": {},
   "outputs": [
    {
     "name": "stdout",
     "output_type": "stream",
     "text": [
      "\n",
      "[[ 1.  1.  1.  1.]\n",
      " [ 1.  1.  1.  1.]\n",
      " [ 1.  1.  1.  1.]]\n",
      "<NDArray 3x4 @cpu(0)>\n"
     ]
    }
   ],
   "source": [
    "x = nd.ones((3,4))\n",
    "print(x)"
   ]
  },
  {
   "cell_type": "code",
   "execution_count": 4,
   "metadata": {},
   "outputs": [
    {
     "name": "stdout",
     "output_type": "stream",
     "text": [
      "\n",
      "[[ 3.03629494  2.50975585]\n",
      " [ 2.04982066  3.03751945]]\n",
      "<NDArray 2x2 @cpu(0)>\n"
     ]
    }
   ],
   "source": [
    "x = nd.random_normal(3,1,shape=(2,2))\n",
    "print(x)"
   ]
  },
  {
   "cell_type": "markdown",
   "metadata": {},
   "source": [
    "使用shape 和 size 方法可以查看相关数据变量的形状和大小"
   ]
  },
  {
   "cell_type": "code",
   "execution_count": 5,
   "metadata": {},
   "outputs": [
    {
     "name": "stdout",
     "output_type": "stream",
     "text": [
      "(2, 2)\n",
      "4\n"
     ]
    }
   ],
   "source": [
    "print(x.shape)\n",
    "print(x.size)"
   ]
  },
  {
   "cell_type": "markdown",
   "metadata": {},
   "source": [
    "### 数据运算\n",
    "数据可以进行基础的运算"
   ]
  },
  {
   "cell_type": "code",
   "execution_count": 6,
   "metadata": {},
   "outputs": [
    {
     "name": "stdout",
     "output_type": "stream",
     "text": [
      "plus + :\n",
      "\n",
      "[[ 6.07258987  4.55957651]\n",
      " [ 4.55957651  6.07503891]]\n",
      "<NDArray 2x2 @cpu(0)>\n",
      "\n",
      "\n",
      "multiplication * :\n",
      "\n",
      "[[ 9.21908665  5.14454937]\n",
      " [ 5.14454937  9.22652435]]\n",
      "<NDArray 2x2 @cpu(0)>\n",
      "\n",
      "\n",
      "exponentiation * :\n",
      "\n",
      "[[ 20.82793045  12.30192661]\n",
      " [  7.7665081   20.85345078]]\n",
      "<NDArray 2x2 @cpu(0)>\n",
      "\n",
      "\n",
      "proper matrix-matrix · :\n",
      "\n",
      "[[ 15.5179615   13.84729195]\n",
      " [ 13.84729195  13.42828941]]\n",
      "<NDArray 2x2 @cpu(0)>\n"
     ]
    }
   ],
   "source": [
    "y = x.T\n",
    "print('plus + :')\n",
    "print(x + y)\n",
    "print('')\n",
    "print('')\n",
    "print('multiplication * :')\n",
    "print(x * y)\n",
    "print('')\n",
    "print('')\n",
    "print('exponentiation * :')\n",
    "print(nd.exp(x))\n",
    "print('')\n",
    "print('')\n",
    "print('proper matrix-matrix · :')\n",
    "print(nd.dot(x,y))"
   ]
  },
  {
   "cell_type": "markdown",
   "metadata": {},
   "source": [
    "### 值数据更新\n",
    "在python 的基本操作中，y = x+ y, 其中y的地址是发生变化的，首先会先划分出一块缓存来存放 x + y 的结果，然后将y的指针指向 新的内存地址。可以通过id 方法来证明。 这样不利于大量数据的计算，同时增加了内存泄漏的风险。\n",
    "但在mxNet可以通过特定操作来避免该问题，直接将数据赋值在原地址上,那就是 [:]，或者 += 。\n"
   ]
  },
  {
   "cell_type": "code",
   "execution_count": 7,
   "metadata": {},
   "outputs": [
    {
     "name": "stdout",
     "output_type": "stream",
     "text": [
      "id(y): 2160913973088\n",
      "id(y): 2160750517048\n"
     ]
    }
   ],
   "source": [
    "print('id(y):',id(y))\n",
    "y= y + x\n",
    "print('id(y):',id(y))"
   ]
  },
  {
   "cell_type": "code",
   "execution_count": 8,
   "metadata": {},
   "outputs": [
    {
     "name": "stdout",
     "output_type": "stream",
     "text": [
      "id(y): 2160750517048\n",
      "id(y): 2160750517048\n",
      "id(y): 2160750517048\n"
     ]
    }
   ],
   "source": [
    "print('id(y):', id(y))\n",
    "y[:] = x + y\n",
    "print('id(y):', id(y))\n",
    "y+= x\n",
    "print('id(y):',id(y))"
   ]
  },
  {
   "cell_type": "markdown",
   "metadata": {},
   "source": [
    "但其实在这个操作过程中，还是需要一块临时内存来进行数据的存储，然后将该数据存放到变量y指向的地址中去。 但mxnet中提供了另一种方式可以避免时候临时内存，这就是  elemwise_add 和 out 。所有 ndarray数据类型都支持该操作。"
   ]
  },
  {
   "cell_type": "code",
   "execution_count": 9,
   "metadata": {},
   "outputs": [
    {
     "data": {
      "text/plain": [
       "\n",
       "[[ 15.18147469  12.0888443 ]\n",
       " [ 10.70903873  15.18759727]]\n",
       "<NDArray 2x2 @cpu(0)>"
      ]
     },
     "execution_count": 9,
     "metadata": {},
     "output_type": "execute_result"
    }
   ],
   "source": [
    "nd.elemwise_add(x, y, out=y)"
   ]
  },
  {
   "cell_type": "markdown",
   "metadata": {},
   "source": [
    "### 子元素操作\n",
    "可以通过索引针对矩阵中的数据进行读取或者赋值"
   ]
  },
  {
   "cell_type": "code",
   "execution_count": 10,
   "metadata": {},
   "outputs": [
    {
     "name": "stdout",
     "output_type": "stream",
     "text": [
      "\n",
      "[ 0.]\n",
      "<NDArray 1 @cpu(0)>\n",
      "\n",
      "[[  0.   0.   0.   0.   0.   0.   0.   0.   0.   0.]\n",
      " [ 99.   0.   0.   0.   0.   0.   0.   0.   0.   0.]\n",
      " [  0.   0.   0.   0.   0.   0.   0.   0.   0.   0.]\n",
      " [  0.   0.   0.   0.   0.   0.   0.   0.   0.   0.]\n",
      " [  0.   0.   0.   0.   0.   0.   0.   0.   0.   0.]\n",
      " [  0.   0.   0.   0.   0.   0.   0.   0.   0.   0.]\n",
      " [  0.   0.   0.   0.   0.   0.   0.   0.   0.   0.]\n",
      " [  0.   0.   0.   0.   0.   0.   0.   0.   0.   0.]\n",
      " [  0.   0.   0.   0.   0.   0.   0.   0.   0.   0.]\n",
      " [  0.   0.   0.   0.   0.   0.   0.   0.   0.   0.]]\n",
      "<NDArray 10x10 @cpu(0)>\n",
      "\n",
      "[[  0.   0.   0.   5.   5.   5.   0.   0.   0.   0.]\n",
      " [ 99.   0.   0.   5.   5.   5.   0.   0.   0.   0.]\n",
      " [  0.   0.   0.   5.   5.   5.   0.   0.   0.   0.]\n",
      " [  0.   0.   0.   5.   5.   5.   0.   0.   0.   0.]\n",
      " [  0.   0.   0.   5.   5.   5.   0.   0.   0.   0.]\n",
      " [  0.   0.   0.   0.   0.   0.   0.   0.   0.   0.]\n",
      " [  0.   0.   0.   0.   0.   0.   0.   0.   0.   0.]\n",
      " [  0.   0.   0.   0.   0.   0.   0.   0.   0.   0.]\n",
      " [  0.   0.   0.   0.   0.   0.   0.   0.   0.   0.]\n",
      " [  0.   0.   0.   0.   0.   0.   0.   0.   0.   0.]]\n",
      "<NDArray 10x10 @cpu(0)>\n"
     ]
    }
   ],
   "source": [
    "y = nd.zeros((10,10))\n",
    "(y)\n",
    "print(y[1,0])\n",
    "y[1,0] = 99\n",
    "print(y)\n",
    "y[0:5,3:6] = 5\n",
    "print(y)"
   ]
  },
  {
   "cell_type": "markdown",
   "metadata": {},
   "source": [
    "### 广播\n",
    "直接可以通过预定义矩阵和向量形状来实现广播操作"
   ]
  },
  {
   "cell_type": "code",
   "execution_count": 11,
   "metadata": {},
   "outputs": [
    {
     "name": "stdout",
     "output_type": "stream",
     "text": [
      "x =  \n",
      "[[ 1.  1.  1.]\n",
      " [ 1.  1.  1.]\n",
      " [ 1.  1.  1.]]\n",
      "<NDArray 3x3 @cpu(0)>\n",
      "y =  \n",
      "[ 0.  1.  2.]\n",
      "<NDArray 3 @cpu(0)>\n",
      "x + y =  \n",
      "[[ 1.  2.  3.]\n",
      " [ 1.  2.  3.]\n",
      " [ 1.  2.  3.]]\n",
      "<NDArray 3x3 @cpu(0)>\n",
      "--------------------------------\n",
      "y =  \n",
      "[[ 0.]\n",
      " [ 1.]\n",
      " [ 2.]]\n",
      "<NDArray 3x1 @cpu(0)>\n",
      "x + y =  \n",
      "[[ 1.  1.  1.]\n",
      " [ 2.  2.  2.]\n",
      " [ 3.  3.  3.]]\n",
      "<NDArray 3x3 @cpu(0)>\n"
     ]
    }
   ],
   "source": [
    "x = nd.ones(shape=(3,3))\n",
    "print('x = ', x)\n",
    "y = nd.arange(3)\n",
    "print('y = ', y)\n",
    "print('x + y = ', x + y)\n",
    "print('--------------------------------')\n",
    "y = y.reshape((3,1))\n",
    "print('y = ', y)\n",
    "print('x + y = ', x+y)"
   ]
  },
  {
   "cell_type": "markdown",
   "metadata": {},
   "source": [
    "### 与NumPy数据结构的相互转换"
   ]
  },
  {
   "cell_type": "code",
   "execution_count": 12,
   "metadata": {},
   "outputs": [
    {
     "name": "stdout",
     "output_type": "stream",
     "text": [
      "type a :  <class 'numpy.ndarray'>\n",
      "type y :  <class 'mxnet.ndarray.ndarray.NDArray'>\n"
     ]
    }
   ],
   "source": [
    "a = x.asnumpy()\n",
    "print('type a : ',type(a))\n",
    "y= nd.array(a)\n",
    "print('type y : ',type(y))"
   ]
  },
  {
   "cell_type": "markdown",
   "metadata": {},
   "source": [
    "### 容器管理\n",
    "在mxnet中的数据对象可以指定控制存储介质，cpu 或者 gpu，这样有利于发挥服务器硬件性能，缩短计算时间。"
   ]
  },
  {
   "cell_type": "code",
   "execution_count": 13,
   "metadata": {},
   "outputs": [
    {
     "data": {
      "text/plain": [
       "\n",
       "[[ 1.  1.  1.]\n",
       " [ 1.  1.  1.]\n",
       " [ 1.  1.  1.]]\n",
       "<NDArray 3x3 @cpu(0)>"
      ]
     },
     "execution_count": 13,
     "metadata": {},
     "output_type": "execute_result"
    }
   ],
   "source": [
    "z= nd.ones(shape=(3,3),ctx = mx.cpu(0))\n",
    "z\n"
   ]
  }
 ],
 "metadata": {
  "kernelspec": {
   "display_name": "Python 3",
   "language": "python",
   "name": "python3"
  },
  "language_info": {
   "codemirror_mode": {
    "name": "ipython",
    "version": 3
   },
   "file_extension": ".py",
   "mimetype": "text/x-python",
   "name": "python",
   "nbconvert_exporter": "python",
   "pygments_lexer": "ipython3",
   "version": "3.6.2"
  }
 },
 "nbformat": 4,
 "nbformat_minor": 2
}
