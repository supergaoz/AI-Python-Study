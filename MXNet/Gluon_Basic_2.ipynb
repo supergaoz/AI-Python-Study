{
 "cells": [
  {
   "cell_type": "markdown",
   "metadata": {},
   "source": [
    "# MXNet(Gluon) 入门基础\n",
    "    MXNet有两种编码风格，Gluon 和 Module, Gluon 更适合入门，这里就从Gluon 开始学起，主要效仿官网相关教程进行渐进式学习。"
   ]
  },
  {
   "cell_type": "markdown",
   "metadata": {},
   "source": [
    "## 2.线性代数的应用\n",
    "    在机器学习以及深度神经网络的应用过程中，线性代数的计算不可或者，这里就将一些常用的线性代数应用在这里进行举例说明。"
   ]
  },
  {
   "cell_type": "markdown",
   "metadata": {},
   "source": [
    "### 标量\n",
    "基础的标量能够支持各类基本运算，同时NDArray 也能转化成标量"
   ]
  },
  {
   "cell_type": "code",
   "execution_count": 2,
   "metadata": {},
   "outputs": [
    {
     "name": "stdout",
     "output_type": "stream",
     "text": [
      "x + y =  \n",
      "[ 5.]\n",
      "<NDArray 1 @cpu(0)>\n",
      "x * y =  \n",
      "[ 6.]\n",
      "<NDArray 1 @cpu(0)>\n",
      "x / y =  \n",
      "[ 1.5]\n",
      "<NDArray 1 @cpu(0)>\n",
      "x ** y =  \n",
      "[ 9.]\n",
      "<NDArray 1 @cpu(0)>\n",
      "3.0\n"
     ]
    }
   ],
   "source": [
    "from mxnet import nd\n",
    "\n",
    "##########################\n",
    "# Instantiate two scalars\n",
    "##########################\n",
    "x = nd.array([3.0])\n",
    "y = nd.array([2.0])\n",
    "\n",
    "##########################\n",
    "# Add them\n",
    "##########################\n",
    "print('x + y = ', x + y)\n",
    "\n",
    "##########################\n",
    "# Multiply them\n",
    "##########################\n",
    "print('x * y = ', x * y)\n",
    "\n",
    "##########################\n",
    "# Divide x by y\n",
    "##########################\n",
    "print('x / y = ', x / y)\n",
    "\n",
    "##########################\n",
    "# Raise x to the power y.\n",
    "##########################\n",
    "print('x ** y = ', nd.power(x,y))\n",
    "\n",
    "##########################\n",
    "# convert NDArray to scalar\n",
    "##########################\n",
    "print(x.asscalar())"
   ]
  },
  {
   "cell_type": "markdown",
   "metadata": {},
   "source": [
    "### 向量\n",
    "    在实际应用过程中，向量结构类似一维举证，并通过下标来直接读写相关子元素。"
   ]
  },
  {
   "cell_type": "code",
   "execution_count": 2,
   "metadata": {},
   "outputs": [
    {
     "name": "stdout",
     "output_type": "stream",
     "text": [
      "u =  \n",
      "[ 0.  1.  2.  3.]\n",
      "<NDArray 4 @cpu(0)>\n",
      "u[2]=  \n",
      "[ 2.]\n",
      "<NDArray 1 @cpu(0)>\n",
      "u =  \n",
      "[ 100.    1.    2.    3.]\n",
      "<NDArray 4 @cpu(0)>\n"
     ]
    }
   ],
   "source": [
    "u =nd.arange(4)\n",
    "print('u = ', u)\n",
    "print('u[2]= ',u[2])\n",
    "u[0] =100\n",
    "print('u = ', u)"
   ]
  },
  {
   "cell_type": "markdown",
   "metadata": {},
   "source": [
    "### 长度、维度及形状\n",
    "    通过来长度，形状方法来确定相关变量的形状以便在操作前进行检查确认。\n"
   ]
  },
  {
   "cell_type": "code",
   "execution_count": 4,
   "metadata": {},
   "outputs": [
    {
     "name": "stdout",
     "output_type": "stream",
     "text": [
      "len(u) =  4\n",
      "u.shape =  (4,)\n"
     ]
    }
   ],
   "source": [
    "print('len(u) = ',len(u))\n",
    "print('u.shape = ',u.shape)"
   ]
  },
  {
   "cell_type": "markdown",
   "metadata": {},
   "source": [
    "### 矩阵\n",
    "一般用大写字母表示矩阵，可以用zeros 或者 ones 进行初始化。同时可以将向量和矩阵进行转化。"
   ]
  },
  {
   "cell_type": "code",
   "execution_count": 5,
   "metadata": {},
   "outputs": [
    {
     "name": "stdout",
     "output_type": "stream",
     "text": [
      "A \n",
      "[[ 0.  0.  0.  0.]\n",
      " [ 0.  0.  0.  0.]\n",
      " [ 0.  0.  0.  0.]\n",
      " [ 0.  0.  0.  0.]\n",
      " [ 0.  0.  0.  0.]]\n",
      "<NDArray 5x4 @cpu(0)>\n",
      "B \n",
      "[[  0.   1.   2.   3.]\n",
      " [  4.   5.   6.   7.]\n",
      " [  8.   9.  10.  11.]\n",
      " [ 12.  13.  14.  15.]\n",
      " [ 16.  17.  18.  19.]]\n",
      "<NDArray 5x4 @cpu(0)>\n"
     ]
    }
   ],
   "source": [
    "A = nd.zeros((5,4))\n",
    "print('A',A)\n",
    "x = nd.arange(20)\n",
    "B = x.reshape((5,4))\n",
    "print('B',B)"
   ]
  },
  {
   "cell_type": "markdown",
   "metadata": {},
   "source": [
    "可以通过索引查看修改对应数据，也可以针对矩阵进行转秩"
   ]
  },
  {
   "cell_type": "code",
   "execution_count": 6,
   "metadata": {},
   "outputs": [
    {
     "name": "stdout",
     "output_type": "stream",
     "text": [
      "row 2 of B \n",
      "[  8.   9.  10.  11.]\n",
      "<NDArray 4 @cpu(0)>\n"
     ]
    }
   ],
   "source": [
    "print('row 2 of B', B[2,:])"
   ]
  },
  {
   "cell_type": "code",
   "execution_count": 7,
   "metadata": {},
   "outputs": [
    {
     "name": "stdout",
     "output_type": "stream",
     "text": [
      "column 3 of B \n",
      "[  3.   7.  11.  15.  19.]\n",
      "<NDArray 5 @cpu(0)>\n"
     ]
    }
   ],
   "source": [
    "print('column 3 of B', B[:,3])"
   ]
  },
  {
   "cell_type": "code",
   "execution_count": 8,
   "metadata": {},
   "outputs": [
    {
     "name": "stdout",
     "output_type": "stream",
     "text": [
      "B.T \n",
      "[[  0.   4.   8.  12.  16.]\n",
      " [  1.   5.   9.  13.  17.]\n",
      " [  2.   6.  10.  14.  18.]\n",
      " [  3.   7.  11.  15.  19.]]\n",
      "<NDArray 4x5 @cpu(0)>\n"
     ]
    }
   ],
   "source": [
    "print('B.T',B.T)"
   ]
  },
  {
   "cell_type": "markdown",
   "metadata": {},
   "source": [
    "### 张量\n",
    "    理解为三维数组"
   ]
  },
  {
   "cell_type": "code",
   "execution_count": 12,
   "metadata": {},
   "outputs": [
    {
     "name": "stdout",
     "output_type": "stream",
     "text": [
      "X.shape = (4, 3, 2)\n",
      "X = \n",
      "[[[  0.   1.]\n",
      "  [  2.   3.]\n",
      "  [  4.   5.]]\n",
      "\n",
      " [[  6.   7.]\n",
      "  [  8.   9.]\n",
      "  [ 10.  11.]]\n",
      "\n",
      " [[ 12.  13.]\n",
      "  [ 14.  15.]\n",
      "  [ 16.  17.]]\n",
      "\n",
      " [[ 18.  19.]\n",
      "  [ 20.  21.]\n",
      "  [ 22.  23.]]]\n",
      "<NDArray 4x3x2 @cpu(0)>\n"
     ]
    }
   ],
   "source": [
    "X = nd.arange(24).reshape((4, 3, 2))\n",
    "print('X.shape =', X.shape)\n",
    "print('X =', X)"
   ]
  },
  {
   "cell_type": "markdown",
   "metadata": {},
   "source": [
    "### 元素计算\n",
    "    通常情况下，针对矩阵或者数组的操作通过 element-wise 进行操作，确保新建的变量能和原变量有一样的形状，方便计算。"
   ]
  },
  {
   "cell_type": "code",
   "execution_count": 13,
   "metadata": {},
   "outputs": [
    {
     "name": "stdout",
     "output_type": "stream",
     "text": [
      "u = \n",
      "[ 1.  2.  4.  8.]\n",
      "<NDArray 4 @cpu(0)>\n",
      "v = \n",
      "[ 2.  2.  2.  2.]\n",
      "<NDArray 4 @cpu(0)>\n",
      "w = \n",
      "[ 0.  0.  0.  0.]\n",
      "<NDArray 4 @cpu(0)>\n",
      "u + v \n",
      "[  3.   4.   6.  10.]\n",
      "<NDArray 4 @cpu(0)>\n",
      "u - v \n",
      "[-1.  0.  2.  6.]\n",
      "<NDArray 4 @cpu(0)>\n",
      "u * v \n",
      "[  2.   4.   8.  16.]\n",
      "<NDArray 4 @cpu(0)>\n",
      "u / v \n",
      "[ 0.5  1.   2.   4. ]\n",
      "<NDArray 4 @cpu(0)>\n"
     ]
    }
   ],
   "source": [
    "u = nd.array([1, 2, 4, 8])\n",
    "v = nd.ones_like(u) * 2\n",
    "w = nd.zeros_like(v)\n",
    "print('u =', u)\n",
    "print('v =', v)\n",
    "print('w =', w)\n",
    "print('u + v', u + v)\n",
    "print('u - v', u - v)\n",
    "print('u * v', u * v)\n",
    "print('u / v', u / v)"
   ]
  },
  {
   "cell_type": "code",
   "execution_count": 16,
   "metadata": {},
   "outputs": [
    {
     "name": "stdout",
     "output_type": "stream",
     "text": [
      "B = \n",
      "[[ 3.  3.  3.  3.]\n",
      " [ 3.  3.  3.  3.]\n",
      " [ 3.  3.  3.  3.]\n",
      " [ 3.  3.  3.  3.]]\n",
      "<NDArray 4x4 @cpu(0)>\n",
      "A + B = \n",
      "[[  3.   4.   5.   6.]\n",
      " [  7.   8.   9.  10.]\n",
      " [ 11.  12.  13.  14.]\n",
      " [ 15.  16.  17.  18.]]\n",
      "<NDArray 4x4 @cpu(0)>\n",
      "A * B = \n",
      "[[  0.   3.   6.   9.]\n",
      " [ 12.  15.  18.  21.]\n",
      " [ 24.  27.  30.  33.]\n",
      " [ 36.  39.  42.  45.]]\n",
      "<NDArray 4x4 @cpu(0)>\n"
     ]
    }
   ],
   "source": [
    "A = nd.arange(16).reshape((4,4))\n",
    "B = nd.ones_like(A) * 3\n",
    "print('B =', B)\n",
    "print('A + B =', A + B)\n",
    "print('A * B =', A * B)"
   ]
  },
  {
   "cell_type": "markdown",
   "metadata": {},
   "source": [
    "### 平均值、总和\n",
    "    常用的基础操作，同样适用于不同的数据类型。"
   ]
  },
  {
   "cell_type": "code",
   "execution_count": 18,
   "metadata": {},
   "outputs": [
    {
     "name": "stdout",
     "output_type": "stream",
     "text": [
      "mean x \n",
      "[ 4.5]\n",
      "<NDArray 1 @cpu(0)>\n",
      "sum x \n",
      "[ 45.]\n",
      "<NDArray 1 @cpu(0)>\n",
      "mean A \n",
      "[ 4.5]\n",
      "<NDArray 1 @cpu(0)>\n",
      "sum A \n",
      "[ 45.]\n",
      "<NDArray 1 @cpu(0)>\n"
     ]
    }
   ],
   "source": [
    "x = nd.arange(10)\n",
    "print('mean x', nd.mean(x))\n",
    "print('sum x',nd.sum(x))\n",
    "A = x.reshape((2,5))\n",
    "print('mean A', nd.mean(A))\n",
    "print('sum A', nd.sum(A))"
   ]
  },
  {
   "cell_type": "code",
   "execution_count": 20,
   "metadata": {},
   "outputs": [
    {
     "name": "stdout",
     "output_type": "stream",
     "text": [
      "\n",
      "[ 30.]\n",
      "<NDArray 1 @cpu(0)>\n",
      "\n",
      "[ 30.]\n",
      "<NDArray 1 @cpu(0)>\n"
     ]
    }
   ],
   "source": [
    "print(nd.dot(u,v))\n",
    "print(nd.sum(u*v))"
   ]
  },
  {
   "cell_type": "markdown",
   "metadata": {},
   "source": [
    "### 矩阵及向量的计算\n",
    "    了解了点积计算之后，我们就可以开始了解矩阵与向量的的相关计算了。"
   ]
  },
  {
   "cell_type": "code",
   "execution_count": 11,
   "metadata": {},
   "outputs": [
    {
     "name": "stdout",
     "output_type": "stream",
     "text": [
      "A: \n",
      "[[  0.   1.   2.   3.   4.]\n",
      " [  5.   6.   7.   8.   9.]\n",
      " [ 10.  11.  12.  13.  14.]\n",
      " [ 15.  16.  17.  18.  19.]]\n",
      "<NDArray 4x5 @cpu(0)>\n",
      "x: \n",
      "[ 0.  1.  2.  3.  4.]\n",
      "<NDArray 5 @cpu(0)>\n",
      "Ax: \n",
      "[  30.   80.  130.  180.]\n",
      "<NDArray 4 @cpu(0)>\n"
     ]
    }
   ],
   "source": [
    "A = nd.arange(0,20).reshape((4,5))\n",
    "x = nd.arange(0,5)\n",
    "print('A:',A)\n",
    "print('x:',x)\n",
    "print('Ax:', nd.dot(A,x))"
   ]
  },
  {
   "cell_type": "markdown",
   "metadata": {},
   "source": [
    "### 矩阵之间的计算\n",
    "    矩阵之间也可以进行乘计算"
   ]
  },
  {
   "cell_type": "code",
   "execution_count": 12,
   "metadata": {},
   "outputs": [
    {
     "name": "stdout",
     "output_type": "stream",
     "text": [
      "A: \n",
      "[[  1.   2.   3.   4.   5.]\n",
      " [  6.   7.   8.   9.  10.]\n",
      " [ 11.  12.  13.  14.  15.]\n",
      " [ 16.  17.  18.  19.  20.]]\n",
      "<NDArray 4x5 @cpu(0)>\n",
      "B: \n",
      "[[ 50.  51.  52.  53.  54.  55.  56.  57.]\n",
      " [ 58.  59.  60.  61.  62.  63.  64.  65.]\n",
      " [ 66.  67.  68.  69.  70.  71.  72.  73.]\n",
      " [ 74.  75.  76.  77.  78.  79.  80.  81.]\n",
      " [ 82.  83.  84.  85.  86.  87.  88.  89.]]\n",
      "<NDArray 5x8 @cpu(0)>\n",
      "A·B: \n",
      "[[ 1070.  1085.  1100.  1115.  1130.  1145.  1160.  1175.]\n",
      " [ 2720.  2760.  2800.  2840.  2880.  2920.  2960.  3000.]\n",
      " [ 4370.  4435.  4500.  4565.  4630.  4695.  4760.  4825.]\n",
      " [ 6020.  6110.  6200.  6290.  6380.  6470.  6560.  6650.]]\n",
      "<NDArray 4x8 @cpu(0)>\n"
     ]
    }
   ],
   "source": [
    "A = nd.arange(1,21).reshape((4,5))\n",
    "B = nd.arange(50,100).reshape((5,8))\n",
    "C = nd.dot(A,B)\n",
    "print('A:',A)\n",
    "print('B:',B)\n",
    "print('A·B:',C)"
   ]
  },
  {
   "cell_type": "markdown",
   "metadata": {},
   "source": [
    "### 范数\n",
    "    二阶范数即为常用的直线距离,直接用norm函数获取"
   ]
  },
  {
   "cell_type": "code",
   "execution_count": 25,
   "metadata": {},
   "outputs": [
    {
     "name": "stdout",
     "output_type": "stream",
     "text": [
      "\n",
      "[-2. -1.  0.  1.]\n",
      "<NDArray 4 @cpu(0)>\n",
      "\n",
      "[ 2.44948983]\n",
      "<NDArray 1 @cpu(0)>\n",
      "\n",
      "[ 2.  1.  0.  1.]\n",
      "<NDArray 4 @cpu(0)>\n",
      "\n",
      "[ 4.]\n",
      "<NDArray 1 @cpu(0)>\n"
     ]
    }
   ],
   "source": [
    "a = nd.arange(-2,2)\n",
    "print(a)\n",
    "print(nd.norm(a))\n",
    "print(nd.abs(a))\n",
    "print(nd.sum(nd.abs(a)))"
   ]
  }
 ],
 "metadata": {
  "kernelspec": {
   "display_name": "Python 3",
   "language": "python",
   "name": "python3"
  },
  "language_info": {
   "codemirror_mode": {
    "name": "ipython",
    "version": 3
   },
   "file_extension": ".py",
   "mimetype": "text/x-python",
   "name": "python",
   "nbconvert_exporter": "python",
   "pygments_lexer": "ipython3",
   "version": "3.6.2"
  }
 },
 "nbformat": 4,
 "nbformat_minor": 2
}
