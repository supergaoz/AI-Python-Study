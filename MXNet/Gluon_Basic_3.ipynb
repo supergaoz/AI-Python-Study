{
 "cells": [
  {
   "cell_type": "markdown",
   "metadata": {
    "collapsed": true
   },
   "source": [
    "# MXNet(Gluon) 入门基础\n",
    "    MXNet有两种编码风格，Gluon 和 Module, Gluon 更适合入门，这里就从Gluon 开始学起，主要效仿官网相关教程进行渐进式学习。"
   ]
  },
  {
   "cell_type": "markdown",
   "metadata": {},
   "source": [
    "## 3.概率统计基础\n",
    "    很多时候机器学习的目标都是为了预测，在预测过程中需要很多的统计学的知识，这里就简单介绍下，机器学习过程中经常使用的一些统计学基础内容。\n",
    "    可以使用概率分布来构造取样的多项式，这里只说明最简单的方法。确定好多项式分布的概率后，用取样函数就能进行按照概率的取样。\n",
    "    注：这里概率总和必须为1，因为计算方式是从前面的概率开始计算器，如果前面总和已经为1，后面的概率再大，也不会命中。"
   ]
  },
  {
   "cell_type": "code",
   "execution_count": 1,
   "metadata": {},
   "outputs": [
    {
     "data": {
      "text/plain": [
       "\n",
       "[ 0.16666667  0.16666667  0.16666667  0.16666667  0.16666667  0.16666667]\n",
       "<NDArray 6 @cpu(0)>"
      ]
     },
     "execution_count": 1,
     "metadata": {},
     "output_type": "execute_result"
    }
   ],
   "source": [
    "import mxnet as mx\n",
    "from mxnet import nd"
   ]
  },
  {
   "cell_type": "code",
   "execution_count": 22,
   "metadata": {},
   "outputs": [
    {
     "data": {
      "text/plain": [
       "\n",
       "[3]\n",
       "<NDArray 1 @cpu(0)>"
      ]
     },
     "execution_count": 22,
     "metadata": {},
     "output_type": "execute_result"
    }
   ],
   "source": [
    "probabilities = nd.ones(6) / 6\n",
    "probabilities\n",
    "nd.sample_multinomial(probabilities)"
   ]
  },
  {
   "cell_type": "code",
   "execution_count": 45,
   "metadata": {},
   "outputs": [
    {
     "name": "stdout",
     "output_type": "stream",
     "text": [
      "\n",
      "[  0.5   0.5  50.    0.    0.   50. ]\n",
      "<NDArray 6 @cpu(0)>\n",
      "\n",
      "[[0 1 0 1 0 0 0 1 0 0]\n",
      " [1 0 0 1 1 0 1 0 1 1]\n",
      " [0 0 1 0 1 0 0 1 1 1]\n",
      " [0 0 0 1 0 0 0 1 1 1]\n",
      " [0 0 0 1 1 0 1 1 0 0]\n",
      " [1 1 1 0 0 1 0 0 0 1]\n",
      " [0 1 0 1 1 0 1 1 1 1]\n",
      " [1 1 0 1 0 1 1 1 1 0]\n",
      " [1 0 0 1 0 1 1 0 0 0]\n",
      " [0 0 1 1 1 0 0 1 0 0]]\n",
      "<NDArray 10x10 @cpu(0)>\n"
     ]
    }
   ],
   "source": [
    "probabilities[0] = 0.5\n",
    "probabilities[1] = 0.5\n",
    "probabilities[2] = 50\n",
    "probabilities[3] = 0\n",
    "probabilities[4] = 0\n",
    "probabilities[5] = 50\n",
    "print(probabilities)\n",
    "print(nd.sample_multinomial(probabilities,shape=(10,10)))"
   ]
  },
  {
   "cell_type": "markdown",
   "metadata": {},
   "source": [
    "    可以测试下取样出来的数据的相关概率"
   ]
  },
  {
   "cell_type": "code",
   "execution_count": 46,
   "metadata": {},
   "outputs": [
    {
     "name": "stdout",
     "output_type": "stream",
     "text": [
      "the probabilitiy is : \n",
      "[ 0.50400001  0.49599999  0.          0.          0.          0.        ]\n",
      "<NDArray 6 @cpu(0)>\n"
     ]
    }
   ],
   "source": [
    "rolls = nd.sample_multinomial(probabilities, shape=(1000))\n",
    "\n",
    "counts = nd.zeros((6,1000))\n",
    "totals = nd.zeros(6)\n",
    "for i, roll in enumerate(rolls):\n",
    "    totals[int(roll.asscalar())] += 1\n",
    "    counts[:, i] = totals\n",
    "print('the probabilitiy is :',totals / 1000)"
   ]
  },
  {
   "cell_type": "code",
   "execution_count": 50,
   "metadata": {},
   "outputs": [
    {
     "data": {
      "text/plain": [
       "\n",
       "[[   1.    2.    3. ...,  502.  503.  504.]\n",
       " [   0.    0.    0. ...,  496.  496.  496.]\n",
       " [   0.    0.    0. ...,    0.    0.    0.]\n",
       " [   0.    0.    0. ...,    0.    0.    0.]\n",
       " [   0.    0.    0. ...,    0.    0.    0.]\n",
       " [   0.    0.    0. ...,    0.    0.    0.]]\n",
       "<NDArray 6x1000 @cpu(0)>"
      ]
     },
     "execution_count": 50,
     "metadata": {},
     "output_type": "execute_result"
    }
   ],
   "source": [
    "counts #概率变化过程，命中计数"
   ]
  },
  {
   "cell_type": "code",
   "execution_count": 51,
   "metadata": {},
   "outputs": [
    {
     "name": "stdout",
     "output_type": "stream",
     "text": [
      "\n",
      "[ 1.  0.  0.  0.  0.  0.]\n",
      "<NDArray 6 @cpu(0)>\n",
      "\n",
      "[ 1.  0.  0.  0.  0.  0.]\n",
      "<NDArray 6 @cpu(0)>\n",
      "\n",
      "[ 0.42574257  0.57425743  0.          0.          0.          0.        ]\n",
      "<NDArray 6 @cpu(0)>\n",
      "\n",
      "[ 0.50400001  0.49599999  0.          0.          0.          0.        ]\n",
      "<NDArray 6 @cpu(0)>\n"
     ]
    }
   ],
   "source": [
    "x = nd.arange(1000).reshape((1,1000)) + 1\n",
    "estimates = counts / x\n",
    "print(estimates[:,0])\n",
    "print(estimates[:,1])\n",
    "print(estimates[:,100])\n",
    "print(estimates[:,999])"
   ]
  },
  {
   "cell_type": "code",
   "execution_count": 52,
   "metadata": {},
   "outputs": [
    {
     "data": {
      "image/png": "[encoded data removed]",
      "text/plain": [
       "<matplotlib.figure.Figure at 0x1bcc1af2828>"
      ]
     },
     "metadata": {},
     "output_type": "display_data"
    }
   ],
   "source": [
    "#引入作图类库，构建概率分布图\n",
    "from matplotlib import pyplot as plt\n",
    "plt.plot(estimates[0, :].asnumpy(), label=\"Estimated P(die=1)\")\n",
    "plt.plot(estimates[1, :].asnumpy(), label=\"Estimated P(die=2)\")\n",
    "plt.plot(estimates[2, :].asnumpy(), label=\"Estimated P(die=3)\")\n",
    "plt.plot(estimates[3, :].asnumpy(), label=\"Estimated P(die=4)\")\n",
    "plt.plot(estimates[4, :].asnumpy(), label=\"Estimated P(die=5)\")\n",
    "plt.plot(estimates[5, :].asnumpy(), label=\"Estimated P(die=6)\")\n",
    "plt.axhline(y=0.16666, color='black', linestyle='dashed')\n",
    "plt.legend()\n",
    "plt.show()"
   ]
  },
  {
   "cell_type": "markdown",
   "metadata": {},
   "source": [
    "to be continued http://gluon.mxnet.io/chapter01_crashcourse/probability.html"
   ]
  }
 ],
 "metadata": {
  "kernelspec": {
   "display_name": "Python 3",
   "language": "python",
   "name": "python3"
  },
  "language_info": {
   "codemirror_mode": {
    "name": "ipython",
    "version": 3
   },
   "file_extension": ".py",
   "mimetype": "text/x-python",
   "name": "python",
   "nbconvert_exporter": "python",
   "pygments_lexer": "ipython3",
   "version": "3.6.2"
  }
 },
 "nbformat": 4,
 "nbformat_minor": 2
}
