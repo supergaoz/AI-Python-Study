{
 "cells": [
  {
   "cell_type": "markdown",
   "metadata": {},
   "source": [
    "# kNN 算法\n",
    "\n",
    "    kNN 为 k 最近邻居算法，所谓物以类聚，看看身边最近的人是什么人，就知道你是什么人了。接下来通过以下方便介绍该算法。\n",
    "    \n",
    "* kNN基本原理\n",
    "* kNN实现过程\n",
    "* kNN代码实现\n",
    "* kNN算法优化"
   ]
  },
  {
   "cell_type": "markdown",
   "metadata": {},
   "source": [
    "## 1. k-NN 基本原理\n",
    "    如开篇介绍所讲，k-NN为通过与某个数据距离最近的 k 个有标签数据来推测该数据的标签。\n",
    "    其中有几个点需要注意，\n",
    "   * 这里所说的距离不一定是绝对距离，可以根据实际场景来选择需要进行度量的测距方法（曼哈顿距离、欧式距离、cosine距离等）。\n",
    "   * 这是一个没有模型训练过程的算法，在进行分类预测时需要便利所有数据，通过KD-Tree进行算法优化效果显著。"
   ]
  },
  {
   "cell_type": "markdown",
   "metadata": {},
   "source": [
    "## 2. kNN实现过程\n",
    "    (1). 收集数据：可以使用任何方法。\n",
    "    (2). 准备数据：距离计算所需要的数值，最好是结构化的数据形式。\n",
    "    (3). 分析数据：可以使用任何方法。\n",
    "    (4). 训练算法：此步骤不适用于k-NN算法。\n",
    "    (5). 测试算法：计算错误率。\n",
    "    (6). 使用算法：首先需要输入样本数据和结构化输出结果，然后运行k-NN判定输入数据分别属于哪个分类，最后应用对计算出的分类执行后续的处理。\n",
    "    \n",
    "   ### 举例： 在约会网站上"
   ]
  }
 ],
 "metadata": {
  "kernelspec": {
   "display_name": "Python 3",
   "language": "python",
   "name": "python3"
  },
  "language_info": {
   "codemirror_mode": {
    "name": "ipython",
    "version": 3
   },
   "file_extension": ".py",
   "mimetype": "text/x-python",
   "name": "python",
   "nbconvert_exporter": "python",
   "pygments_lexer": "ipython3",
   "version": "3.6.2"
  }
 },
 "nbformat": 4,
 "nbformat_minor": 2
}
