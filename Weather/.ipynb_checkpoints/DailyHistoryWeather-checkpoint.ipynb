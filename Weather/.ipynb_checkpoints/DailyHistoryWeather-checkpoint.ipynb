{
 "cells": [
  {
   "cell_type": "markdown",
   "metadata": {},
   "source": [
    "# 从相关网站数据源，进行数据下载处理。\n",
    "## 数据源为 http://lishi.tianqi.com/shanghai/201101.html\n",
    "## 主要使用的类库为 requests 和 BeautifulSoup模块\n",
    "\n",
    "### 类库安装\n",
    "\n",
    "    pip install requests\n",
    "    pip install bs4"
   ]
  },
  {
   "cell_type": "code",
   "execution_count": 22,
   "metadata": {},
   "outputs": [],
   "source": [
    "from bs4 import BeautifulSoup\n",
    "import requests\n",
    "import datetime\n",
    "#startYM 开始年月： 201101， 最早为 201101 \n",
    "#endYM   结束年月： 201501， 最晚为 当前时间上个月 \n",
    "#location   地点:  shanghai， 拼音\n",
    "#fileName 文件名：  shanghai.csv, 存放数据的文件名\n",
    "def GetWeatherInfo(startYM,endYM,location,fileName):\n",
    "    errorInfo = ''\n",
    "    startTime = '201101'\n",
    "    endTime = str(datetime.datetime.now().year)+ str(datetime.datetime.now().month -1 ).zfill(2)\n",
    "    if (len(startYM)!=6 or len(endYM)!=6):\n",
    "        # error format of date\n",
    "        errorInfo = 'error date time format'\n",
    "    if (int(endYM) < int(startYM)):\n",
    "        #error datetime format\n",
    "        errorInfo = 'error date time format'\n",
    "    if (int(startYM[4:])>12 or int(endYM[4:])>12 or int(startYM[4:])<1 or int(endYM[4:])<1):\n",
    "        # month is out of range\n",
    "        errorInfo = 'month is out of range'\n",
    "    if (int(endYM)>int(endTime) or int(startYM)<int(startTime)):\n",
    "        errorInfo = 'date time is out of range'  \n",
    "    if testNetwork()==False:\n",
    "        errorInfo = 'please check the network' \n",
    "    if testLocation(location)==False:\n",
    "        errorInfo = 'please check the spell of loaction' \n",
    "            \n",
    "    if errorInfo !='':\n",
    "        return errorInfo\n",
    "            \n",
    "    readDate2File(getUrlList(getDateList(startYM,endYM),location),fileName)    \n",
    "    return 0\n",
    "\n",
    "#检查网络情况是否正常\n",
    "def testNetwork():    \n",
    "    return True\n",
    "\n",
    "def testLocation(strLoc):\n",
    "    testUrl =\"http://lishi.tianqi.com/\"+ strLoc +\"/201101.html\"\n",
    "    return True\n",
    "\n",
    "# 得到所有的年月列表\n",
    "def getDateList(startYM,endYM):\n",
    "    ymList = []\n",
    "    currentYM = startYM    \n",
    "    \n",
    "    while int(currentYM) <= int(endYM):\n",
    "        ymList.append(currentYM)\n",
    "        if(currentYM[4:]=='12'):\n",
    "            currentYM = str(int(currentYM[0:4])+1)+'01'\n",
    "        else:\n",
    "            currentYM = currentYM[0:4] + str(int(currentYM[4:])+1).zfill(2)\n",
    "    return ymList\n",
    "\n",
    "def getUrlList(dateList,location):\n",
    "    urlList =[]\n",
    "    for date in dateList:\n",
    "        urlList.append('http://lishi.tianqi.com/'+location+'/'+ date +'.html')\n",
    "    return urlList\n",
    "\n",
    "def readDate2File(urlList,fileName):\n",
    "    file = open(fileName,'w')   \n",
    "    strContent = ''                                              \n",
    "    for url in urlList:                                                                     \n",
    "        response = requests.get(url)                                                     \n",
    "        soup = BeautifulSoup(response.text, 'html.parser')                               \n",
    "        weather_list = soup.select('div[class=\"tqtongji2\"]')                             \n",
    "        #print(weather_list)\n",
    "        firstFlag= 1\n",
    "        for weather in weather_list[0].find_all('ul'):   \n",
    "            if (firstFlag == 1):\n",
    "                firstFlag =0\n",
    "                continue\n",
    "            for cell in weather.find_all('li'):\n",
    "                strContent += str(cell.string) + ','\n",
    "            strContent += '\\n'                                                \n",
    "    file.write(strContent)\n",
    "    file.close()"
   ]
  },
  {
   "cell_type": "code",
   "execution_count": 23,
   "metadata": {},
   "outputs": [
    {
     "name": "stdout",
     "output_type": "stream",
     "text": [
      "201109 201805    201101 201101\n"
     ]
    },
    {
     "data": {
      "text/plain": [
       "0"
      ]
     },
     "execution_count": 23,
     "metadata": {},
     "output_type": "execute_result"
    }
   ],
   "source": [
    "GetWeatherInfo('201101','201109','shanghai','testSH.csv')"
   ]
  }
 ],
 "metadata": {
  "kernelspec": {
   "display_name": "Python 3",
   "language": "python",
   "name": "python3"
  },
  "language_info": {
   "codemirror_mode": {
    "name": "ipython",
    "version": 3
   },
   "file_extension": ".py",
   "mimetype": "text/x-python",
   "name": "python",
   "nbconvert_exporter": "python",
   "pygments_lexer": "ipython3",
   "version": "3.6.5"
  }
 },
 "nbformat": 4,
 "nbformat_minor": 2
}
