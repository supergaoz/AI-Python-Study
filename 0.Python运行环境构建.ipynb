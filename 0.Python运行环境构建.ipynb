{
 "cells": [
  {
   "cell_type": "markdown",
   "metadata": {},
   "source": [
    "# Python 环境构建(Windows)\n",
    "\n",
    "随着人工智能热日益升温，很多同学都开启了python学习模式，这里给大家分享下python环境的构建，帮助大家开启python之旅。\n",
    "主要介绍以下内容：\n",
    "* Anaconda 安装\n",
    "* Anaconda Navigator 环境类库安装\n",
    "* Spyder IDE\n",
    "* Jupyter Notepad 应用\n",
    "\n",
    "## 1.Anaconda 下载安装\n",
    "Anaconda 是一套目前市面上最方便的python代码运行管理的工具，非常好用，免费开源。\n",
    "### 1.1 用户可以通过[官网下载地址](https://www.anaconda.com/download/)进行下载版本\n",
    "    下载时用户可以选择是要基于python 2.7 版本还是python 3.6 版本进行开发。\n",
    "    \n",
    "### 1.2 下载后直接运行exe 进行安装\n",
    "    安装完成后，系统系统运行目录会出现Anaconda 文件夹"
   ]
  },
  {
   "cell_type": "markdown",
   "metadata": {},
   "source": [
    "<img src=\"image/0/目录结构.png\" style=\"height:260px; float:left\">"
   ]
  },
  {
   "cell_type": "markdown",
   "metadata": {},
   "source": [
    "## 2.Navigator 应用\n",
    "    Navigator可以帮助我们进行相关编译平台以及支持类库的管理，图形化操作界面非常方便。"
   ]
  }
 ],
 "metadata": {
  "kernelspec": {
   "display_name": "Python 3",
   "language": "python",
   "name": "python3"
  },
  "language_info": {
   "codemirror_mode": {
    "name": "ipython",
    "version": 3
   },
   "file_extension": ".py",
   "mimetype": "text/x-python",
   "name": "python",
   "nbconvert_exporter": "python",
   "pygments_lexer": "ipython3",
   "version": "3.6.2"
  }
 },
 "nbformat": 4,
 "nbformat_minor": 2
}
