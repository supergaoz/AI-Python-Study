{
 "cells": [
  {
   "cell_type": "markdown",
   "metadata": {},
   "source": [
    "# Python 环境构建(Windows)\n",
    "\n",
    "随着人工智能热日益升温，很多同学都开启了python学习模式，这里给大家分享下python环境的构建，帮助大家开启python之旅。\n",
    "主要介绍以下内容：\n",
    "* Anaconda 安装\n",
    "* Anaconda Navigator 环境类库安装\n",
    "* Spyder IDE\n",
    "* Jupyter Notepad 应用\n",
    "\n",
    "## 1.Anaconda 下载安装\n",
    "    Anaconda 是一套目前市面上最方便的python代码运行管理的工具，非常好用，免费开源。\n",
    "### 1.1 用户可以通过[官网下载地址](https://www.anaconda.com/download/)进行下载版本\n",
    "    下载时用户可以选择是要基于python 2.7 版本还是python 3.6 版本进行开发。\n",
    "    \n",
    "### 1.2 下载后直接运行exe 进行安装\n",
    "    安装完成后，系统系统运行目录会出现Anaconda 文件夹"
   ]
  },
  {
   "cell_type": "markdown",
   "metadata": {},
   "source": [
    "<img src=\"image/0/目录结构.png\" style=\"height:260px; float:left\">"
   ]
  },
  {
   "cell_type": "markdown",
   "metadata": {},
   "source": [
    "## 2.Navigator 应用\n",
    "    Navigator可以帮助我们进行相关编译平台以及支持类库的管理，图形化操作界面非常方便。\n",
    "    如图所示，用户可以进行多种环境的隔离（每个环境可以使用不同的python版本，或者不同的lib类库）"
   ]
  },
  {
   "cell_type": "markdown",
   "metadata": {},
   "source": [
    "<img src=\"image/0/navigator.png\" style=\"height:260px; float:left\">"
   ]
  },
  {
   "cell_type": "markdown",
   "metadata": {},
   "source": [
    "* ① 环境选项中，可以看到本地已经配置好的环境。\n",
    "* ② 选择不同的环境启动，就在不同版本或者类库环境下运行python。笔者这里为TensorFlow另配置了一套环境。\n",
    "* ③ 在不同环境下，可以通过交互界面去选择安装更新相关类库，十分方便。"
   ]
  },
  {
   "cell_type": "markdown",
   "metadata": {},
   "source": [
    "## 3.Spyder IDE 应用\n",
    "    Spyder 可以理解为 类似 Visiual Studio 或者 Eclipse 的集成开发环境。\n",
    "    虽然功能没有其他开发环境那么全面，但基本功能已经能够满足用户调试需求了。\n",
    "    大部分python代码运行可以在这里进行。"
   ]
  },
  {
   "cell_type": "markdown",
   "metadata": {},
   "source": [
    "<img src=\"image/0/spyder.png\" style=\"height:500px; float:left\">"
   ]
  },
  {
   "cell_type": "markdown",
   "metadata": {},
   "source": [
    "* ① 代码编写区域，相关的python代码可以在这个区域进行编写。\n",
    "* ② 启动、调试按钮，用于开始运行、调试脚本。\n",
    "* ③ 变量浏览器，运行或者调试后可以查看相关变量内的数值。\n",
    "* ④ 文件浏览器，可以查看该项目文件夹中的相关文件。\n",
    "* ⑤ 运行结果，可以查看相关python脚本执行后的响应结果。"
   ]
  },
  {
   "cell_type": "markdown",
   "metadata": {},
   "source": [
    "## 4.Jupyter NoteBook 应用\n",
    "    可以理解为可以运行python脚本的记事本，这个记事本的UI是基于浏览器编写的。\n",
    "    启动Jupyter notebook后，会启动一个后台服务，自动响应弹出网页的数据，并将python直接结果直接反映到网页上。\n",
    "    目前支持，相关python代码的执行或者markdown 文本格式，笔者很多文章都是基于Jupyter来写的。"
   ]
  },
  {
   "cell_type": "markdown",
   "metadata": {},
   "source": [
    "<img src=\"image/0/jupyter.png\" style=\"height:500px; float:left\">"
   ]
  },
  {
   "cell_type": "markdown",
   "metadata": {},
   "source": [
    "* ① 相关基本操作，添加单元格，上移下移等。\n",
    "* ② 单元格格式选择，常用的是code 以及 markdown。"
   ]
  }
 ],
 "metadata": {
  "kernelspec": {
   "display_name": "Python 3",
   "language": "python",
   "name": "python3"
  },
  "language_info": {
   "codemirror_mode": {
    "name": "ipython",
    "version": 3
   },
   "file_extension": ".py",
   "mimetype": "text/x-python",
   "name": "python",
   "nbconvert_exporter": "python",
   "pygments_lexer": "ipython3",
   "version": "3.6.2"
  }
 },
 "nbformat": 4,
 "nbformat_minor": 2
}
